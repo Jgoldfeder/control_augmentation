{
 "cells": [
  {
   "cell_type": "code",
   "execution_count": null,
   "id": "9cc3bc48-baa1-4ed2-8eed-0c13f68bff64",
   "metadata": {},
   "outputs": [],
   "source": [
    "import fewshot_dataset\n",
    "from PIL import Image\n",
    "\n",
    "#root_dir=\"/home/judah/control_augmented_images_sun397_512\"\n",
    "root_dir =\"/home/augmented_data/control_augmented_images_caltech256_512\"\n",
    "\n",
    "ds = fewshot_dataset.FewShotDataset( root_dir, num_unique_files=0, include_variations=True)\n",
    "\n",
    "\n",
    "def combine(images):\n",
    "    widths, heights = zip(*(i.size for i in images))\n",
    "    \n",
    "    total_width = sum(widths)\n",
    "    max_height = max(heights)\n",
    "    \n",
    "    new_im = Image.new('RGB', (total_width, max_height))\n",
    "    \n",
    "    x_offset = 0\n",
    "    for im in images:\n",
    "      new_im.paste(im, (x_offset,0))\n",
    "      x_offset += im.size[0]\n",
    "    return new_im\n",
    "\n",
    "    \n",
    "def get_combo(x):\n",
    "    x=x*3\n",
    "    return combine([ds[x][0].resize((512,512)),ds[x+1][0].resize((512,512)),ds[x+2][0].resize((512,512))])"
   ]
  },
  {
   "cell_type": "code",
   "execution_count": null,
   "id": "2d2e1c61-ddde-48e8-bec2-2fcb5c7b39d5",
   "metadata": {},
   "outputs": [],
   "source": [
    "#for x in range(500,600):\n",
    "#    display(get_combo(x))\n",
    "\n",
    "import random\n",
    "idxs =  random.sample(range(0, len(ds)//3), 100)\n",
    "for x in idxs:\n",
    "    display(get_combo(x))"
   ]
  },
  {
   "cell_type": "code",
   "execution_count": null,
   "id": "7d05e936-5b89-4c3d-8a39-7341b0d2a4f3",
   "metadata": {},
   "outputs": [],
   "source": []
  }
 ],
 "metadata": {
  "kernelspec": {
   "display_name": "Python 3 (ipykernel)",
   "language": "python",
   "name": "python3"
  },
  "language_info": {
   "codemirror_mode": {
    "name": "ipython",
    "version": 3
   },
   "file_extension": ".py",
   "mimetype": "text/x-python",
   "name": "python",
   "nbconvert_exporter": "python",
   "pygments_lexer": "ipython3",
   "version": "3.10.12"
  }
 },
 "nbformat": 4,
 "nbformat_minor": 5
}
